{
  "cells": [
    {
      "cell_type": "markdown",
      "metadata": {
        "id": "BBv-oIFLVYRz"
      },
      "source": [
        "# Курсовая работа. Блок ML Beginner\n",
        "<br>\n",
        "\n",
        "**NB!** Код должен быть с комментариями к каждому логическому блоку кода. В противном случае работа **не** будет принята. <br><br>\n",
        "Выполнение курсовой работы может потребовать использование дополнительных библиотек. Может потребоваться предварительная обработка данных.\n",
        "\n",
        "<br><br>\n",
        "**Описание работы:**\n",
        "&nbsp;&nbsp;&nbsp;&nbsp;\n",
        "<br><br>\n",
        "&nbsp;&nbsp;&nbsp;&nbsp; Любой бизнес хочет максимизировать количество клиентов. Для достижения этой цели важно не только пытаться привлечь новых, но и удерживать уже существующих. Удержать клиента обойдется компании дешевле, чем привлечь нового. Кроме того, новый клиент может оказаться слабо заинтересованным в услугах бизнеса и с ним будет сложно работать, тогда как о старых клиентах уже есть необходимые данные по взаимодействию с сервисом. \n",
        " <br>\n",
        "\n",
        "&nbsp;&nbsp;&nbsp;&nbsp; Соответственно, прогнозируя отток, мы можем вовремя среагировать и попытаться удержать клиента, который хочет уйти. Опираясь на данные об услугах, которыми пользуется клиент, мы можем сделать ему специальное предложение, пытаясь изменить его решение об уходе от оператора. Благодаря этому задача удержания будет легче в реализации, чем задача привлечения новых пользователей, о которых мы еще ничего не знаем.<br>\n",
        "\n",
        "&nbsp;&nbsp;&nbsp;&nbsp; Вам предоставлен набор данных от телекоммуникационной компании. В данных содержится информация о почти шести тысячах пользователей, их демографических характеристиках, услугах, которыми они пользуются, длительности пользования услугами оператора, методе оплаты, размере оплаты. \n",
        "<br>\n",
        "\n",
        "&nbsp;&nbsp;&nbsp;&nbsp; Cтоит задача проанализировать данные и спрогнозировать отток пользователей (выявить людей, которые продлят контракт и которые не продлят). Работа должна включать в себя следующие обязательные пункты: \n",
        "1. Описание данных *(с расчетом базовых статистик)*, \n",
        "2. Исследование зависимостей и формулирование гипотез, \n",
        "3. Построение моделей для прогнозирования оттока *(с обоснованием выбора той или иной модели)* на основе проверенных гипотез и выявленных взаимосвязей, \n",
        "4. Сравнение качества полученных моделей. \n",
        "\n",
        "Во втором разделе обязательно должно присутствовать обоснование гипотез, подробное описание выявленных взаимосвязей, а также их визуализация. \n",
        "<br>В четвертом дополнительно должны быть сформулированы общие выводы работы.\n",
        "\n",
        "<br><br>\n",
        "\n",
        "_________\n",
        "\n",
        "[Codebook](#Codebook) <br>\n",
        "[1. Описание данных](#1.-Описание-данных)<br>\n",
        "[2. Исследование зависимостей и формулирование гипотез](#2.-Исследование-зависимостей-и-формулирование-гипотез)<br>\n",
        "[3. Построение моделей для прогнозирования оттока](#3.-Построение-моделей-для-прогнозирования-оттока)<br>\n",
        "[4. Сравнение качества моделей](#4.-Сравнение-качества-моделей) <br>\n"
      ]
    },
    {
      "cell_type": "markdown",
      "metadata": {
        "id": "uZY64JwzVYR6"
      },
      "source": [
        "## Codebook\n",
        "<br>\n",
        "\n",
        "[Ссылка для скачивания данных](https://drive.google.com/open?id=1dPCG76ST6NohYKtVMGv6HpFL-jD5p1eJ) \n",
        "<br><br>\n",
        "\n",
        "`telecom_users.csv` содержит следующие значения:<br><br>\n",
        "\n",
        "&nbsp;&nbsp;&nbsp;&nbsp; `customerID` – id клиента<br>\n",
        "&nbsp;&nbsp;&nbsp;&nbsp; `gender` – пол клиента (male/female)<br>\n",
        "&nbsp;&nbsp;&nbsp;&nbsp; `SeniorCitizen` – яляется ли клиент пенсионером (1, 0)<br>\n",
        "&nbsp;&nbsp;&nbsp;&nbsp; `Partner` – состоит ли клиент в браке (Yes, No)<br>\n",
        "&nbsp;&nbsp;&nbsp;&nbsp; `Dependents` – есть ли у клиента иждивенцы (Yes, No)<br>\n",
        "&nbsp;&nbsp;&nbsp;&nbsp; `tenure` – сколько месяцев человек являлся клиентом компании<br>\n",
        "&nbsp;&nbsp;&nbsp;&nbsp; `PhoneService` – подключена ли услуга телефонной связи (Yes, No)<br>\n",
        "&nbsp;&nbsp;&nbsp;&nbsp; `MultipleLines` – подключены ли несколько телефонных линий (Yes, No, No phone service)<br>\n",
        "&nbsp;&nbsp;&nbsp;&nbsp; `InternetService` – интернет-провайдер клиента (DSL, Fiber optic, No)<br>\n",
        "&nbsp;&nbsp;&nbsp;&nbsp; `OnlineSecurity` – подключена ли услуга онлайн-безопасности (Yes, No, No internet service)<br>\n",
        "&nbsp;&nbsp;&nbsp;&nbsp; `OnlineBackup` – подключена ли услуга online backup (Yes, No, No internet service)<br>\n",
        "&nbsp;&nbsp;&nbsp;&nbsp; `DeviceProtection` – есть ли у клиента страховка оборудования (Yes, No, No internet service)<br>\n",
        "&nbsp;&nbsp;&nbsp;&nbsp; `TechSupport` – подключена ли услуга технической поддержки (Yes, No, No internet service)<br>\n",
        "&nbsp;&nbsp;&nbsp;&nbsp; `StreamingTV` – подключена ли услуга стримингового телевидения (Yes, No, No internet service)<br>\n",
        "&nbsp;&nbsp;&nbsp;&nbsp; `StreamingMovies` – подключена ли услуга стримингового кинотеатра (Yes, No, No internet service)<br>\n",
        "&nbsp;&nbsp;&nbsp;&nbsp; `Contract` – тип контракта клиента (Month-to-month, One year, Two year)<br>\n",
        "&nbsp;&nbsp;&nbsp;&nbsp; `PaperlessBilling` – пользуется ли клиент безбумажным биллингом (Yes, No)<br>\n",
        "&nbsp;&nbsp;&nbsp;&nbsp; `PaymentMethod` – метод оплаты (Electronic check, Mailed check, Bank transfer (automatic), Credit card (automatic))<br>\n",
        "&nbsp;&nbsp;&nbsp;&nbsp; `MonthlyCharges` – месячный размер оплаты на настоящий момент<br>\n",
        "&nbsp;&nbsp;&nbsp;&nbsp; `TotalCharges` – общая сумма, которую клиент заплатил за услуги за все время<br>\n",
        "&nbsp;&nbsp;&nbsp;&nbsp; `Churn` – произошел ли отток (Yes or No)<br>"
      ]
    },
    {
      "cell_type": "markdown",
      "metadata": {
        "id": "sIRCLuWGVYR9"
      },
      "source": [
        "# 1. Описание данных"
      ]
    },
    {
      "cell_type": "code",
      "execution_count": 871,
      "metadata": {},
      "outputs": [],
      "source": [
        "import pandas as pd \n",
        "import numpy as np \n",
        "import seaborn as sns \n",
        "import matplotlib.pyplot as plt"
      ]
    },
    {
      "cell_type": "code",
      "execution_count": 872,
      "metadata": {
        "id": "s0fDRVkgVYSA"
      },
      "outputs": [
        {
          "data": {
            "text/html": [
              "<div>\n",
              "<style scoped>\n",
              "    .dataframe tbody tr th:only-of-type {\n",
              "        vertical-align: middle;\n",
              "    }\n",
              "\n",
              "    .dataframe tbody tr th {\n",
              "        vertical-align: top;\n",
              "    }\n",
              "\n",
              "    .dataframe thead th {\n",
              "        text-align: right;\n",
              "    }\n",
              "</style>\n",
              "<table border=\"1\" class=\"dataframe\">\n",
              "  <thead>\n",
              "    <tr style=\"text-align: right;\">\n",
              "      <th></th>\n",
              "      <th>customerID</th>\n",
              "      <th>gender</th>\n",
              "      <th>SeniorCitizen</th>\n",
              "      <th>Partner</th>\n",
              "      <th>Dependents</th>\n",
              "      <th>tenure</th>\n",
              "      <th>PhoneService</th>\n",
              "      <th>MultipleLines</th>\n",
              "      <th>InternetService</th>\n",
              "      <th>OnlineSecurity</th>\n",
              "      <th>...</th>\n",
              "      <th>DeviceProtection</th>\n",
              "      <th>TechSupport</th>\n",
              "      <th>StreamingTV</th>\n",
              "      <th>StreamingMovies</th>\n",
              "      <th>Contract</th>\n",
              "      <th>PaperlessBilling</th>\n",
              "      <th>PaymentMethod</th>\n",
              "      <th>MonthlyCharges</th>\n",
              "      <th>TotalCharges</th>\n",
              "      <th>Churn</th>\n",
              "    </tr>\n",
              "  </thead>\n",
              "  <tbody>\n",
              "    <tr>\n",
              "      <th>1869</th>\n",
              "      <td>7010-BRBUU</td>\n",
              "      <td>Male</td>\n",
              "      <td>0</td>\n",
              "      <td>Yes</td>\n",
              "      <td>Yes</td>\n",
              "      <td>72</td>\n",
              "      <td>Yes</td>\n",
              "      <td>Yes</td>\n",
              "      <td>No</td>\n",
              "      <td>No internet service</td>\n",
              "      <td>...</td>\n",
              "      <td>No internet service</td>\n",
              "      <td>No internet service</td>\n",
              "      <td>No internet service</td>\n",
              "      <td>No internet service</td>\n",
              "      <td>Two year</td>\n",
              "      <td>No</td>\n",
              "      <td>Credit card (automatic)</td>\n",
              "      <td>24.10</td>\n",
              "      <td>1734.65</td>\n",
              "      <td>No</td>\n",
              "    </tr>\n",
              "    <tr>\n",
              "      <th>4528</th>\n",
              "      <td>9688-YGXVR</td>\n",
              "      <td>Female</td>\n",
              "      <td>0</td>\n",
              "      <td>No</td>\n",
              "      <td>No</td>\n",
              "      <td>44</td>\n",
              "      <td>Yes</td>\n",
              "      <td>No</td>\n",
              "      <td>Fiber optic</td>\n",
              "      <td>No</td>\n",
              "      <td>...</td>\n",
              "      <td>Yes</td>\n",
              "      <td>No</td>\n",
              "      <td>Yes</td>\n",
              "      <td>No</td>\n",
              "      <td>Month-to-month</td>\n",
              "      <td>Yes</td>\n",
              "      <td>Credit card (automatic)</td>\n",
              "      <td>88.15</td>\n",
              "      <td>3973.2</td>\n",
              "      <td>No</td>\n",
              "    </tr>\n",
              "    <tr>\n",
              "      <th>6344</th>\n",
              "      <td>9286-DOJGF</td>\n",
              "      <td>Female</td>\n",
              "      <td>1</td>\n",
              "      <td>Yes</td>\n",
              "      <td>No</td>\n",
              "      <td>38</td>\n",
              "      <td>Yes</td>\n",
              "      <td>Yes</td>\n",
              "      <td>Fiber optic</td>\n",
              "      <td>No</td>\n",
              "      <td>...</td>\n",
              "      <td>No</td>\n",
              "      <td>No</td>\n",
              "      <td>No</td>\n",
              "      <td>No</td>\n",
              "      <td>Month-to-month</td>\n",
              "      <td>Yes</td>\n",
              "      <td>Bank transfer (automatic)</td>\n",
              "      <td>74.95</td>\n",
              "      <td>2869.85</td>\n",
              "      <td>Yes</td>\n",
              "    </tr>\n",
              "    <tr>\n",
              "      <th>6739</th>\n",
              "      <td>6994-KERXL</td>\n",
              "      <td>Male</td>\n",
              "      <td>0</td>\n",
              "      <td>No</td>\n",
              "      <td>No</td>\n",
              "      <td>4</td>\n",
              "      <td>Yes</td>\n",
              "      <td>No</td>\n",
              "      <td>DSL</td>\n",
              "      <td>No</td>\n",
              "      <td>...</td>\n",
              "      <td>No</td>\n",
              "      <td>No</td>\n",
              "      <td>No</td>\n",
              "      <td>Yes</td>\n",
              "      <td>Month-to-month</td>\n",
              "      <td>Yes</td>\n",
              "      <td>Electronic check</td>\n",
              "      <td>55.90</td>\n",
              "      <td>238.5</td>\n",
              "      <td>No</td>\n",
              "    </tr>\n",
              "    <tr>\n",
              "      <th>432</th>\n",
              "      <td>2181-UAESM</td>\n",
              "      <td>Male</td>\n",
              "      <td>0</td>\n",
              "      <td>No</td>\n",
              "      <td>No</td>\n",
              "      <td>2</td>\n",
              "      <td>Yes</td>\n",
              "      <td>No</td>\n",
              "      <td>DSL</td>\n",
              "      <td>Yes</td>\n",
              "      <td>...</td>\n",
              "      <td>Yes</td>\n",
              "      <td>No</td>\n",
              "      <td>No</td>\n",
              "      <td>No</td>\n",
              "      <td>Month-to-month</td>\n",
              "      <td>No</td>\n",
              "      <td>Electronic check</td>\n",
              "      <td>53.45</td>\n",
              "      <td>119.5</td>\n",
              "      <td>No</td>\n",
              "    </tr>\n",
              "  </tbody>\n",
              "</table>\n",
              "<p>5 rows × 21 columns</p>\n",
              "</div>"
            ],
            "text/plain": [
              "      customerID  gender  SeniorCitizen Partner Dependents  tenure  \\\n",
              "1869  7010-BRBUU    Male              0     Yes        Yes      72   \n",
              "4528  9688-YGXVR  Female              0      No         No      44   \n",
              "6344  9286-DOJGF  Female              1     Yes         No      38   \n",
              "6739  6994-KERXL    Male              0      No         No       4   \n",
              "432   2181-UAESM    Male              0      No         No       2   \n",
              "\n",
              "     PhoneService MultipleLines InternetService       OnlineSecurity  ...  \\\n",
              "1869          Yes           Yes              No  No internet service  ...   \n",
              "4528          Yes            No     Fiber optic                   No  ...   \n",
              "6344          Yes           Yes     Fiber optic                   No  ...   \n",
              "6739          Yes            No             DSL                   No  ...   \n",
              "432           Yes            No             DSL                  Yes  ...   \n",
              "\n",
              "         DeviceProtection          TechSupport          StreamingTV  \\\n",
              "1869  No internet service  No internet service  No internet service   \n",
              "4528                  Yes                   No                  Yes   \n",
              "6344                   No                   No                   No   \n",
              "6739                   No                   No                   No   \n",
              "432                   Yes                   No                   No   \n",
              "\n",
              "          StreamingMovies        Contract PaperlessBilling  \\\n",
              "1869  No internet service        Two year               No   \n",
              "4528                   No  Month-to-month              Yes   \n",
              "6344                   No  Month-to-month              Yes   \n",
              "6739                  Yes  Month-to-month              Yes   \n",
              "432                    No  Month-to-month               No   \n",
              "\n",
              "                  PaymentMethod MonthlyCharges  TotalCharges Churn  \n",
              "1869    Credit card (automatic)          24.10       1734.65    No  \n",
              "4528    Credit card (automatic)          88.15        3973.2    No  \n",
              "6344  Bank transfer (automatic)          74.95       2869.85   Yes  \n",
              "6739           Electronic check          55.90         238.5    No  \n",
              "432            Electronic check          53.45         119.5    No  \n",
              "\n",
              "[5 rows x 21 columns]"
            ]
          },
          "execution_count": 872,
          "metadata": {},
          "output_type": "execute_result"
        }
      ],
      "source": [
        "# Выгрузка данных: \n",
        "telecom_data = pd.read_csv('telecom_users.csv', index_col=0)\n",
        "telecom_data.head()"
      ]
    },
    {
      "cell_type": "code",
      "execution_count": 873,
      "metadata": {},
      "outputs": [
        {
          "data": {
            "text/plain": [
              "customerID          0\n",
              "gender              0\n",
              "SeniorCitizen       0\n",
              "Partner             0\n",
              "Dependents          0\n",
              "tenure              0\n",
              "PhoneService        0\n",
              "MultipleLines       0\n",
              "InternetService     0\n",
              "OnlineSecurity      0\n",
              "OnlineBackup        0\n",
              "DeviceProtection    0\n",
              "TechSupport         0\n",
              "StreamingTV         0\n",
              "StreamingMovies     0\n",
              "Contract            0\n",
              "PaperlessBilling    0\n",
              "PaymentMethod       0\n",
              "MonthlyCharges      0\n",
              "TotalCharges        0\n",
              "Churn               0\n",
              "dtype: int64"
            ]
          },
          "execution_count": 873,
          "metadata": {},
          "output_type": "execute_result"
        }
      ],
      "source": [
        "# Проверим на пропуски: \n",
        "telecom_data.isna().sum()"
      ]
    },
    {
      "cell_type": "code",
      "execution_count": 874,
      "metadata": {},
      "outputs": [
        {
          "data": {
            "text/plain": [
              "Index(['customerID', 'gender', 'SeniorCitizen', 'Partner', 'Dependents',\n",
              "       'tenure', 'PhoneService', 'MultipleLines', 'InternetService',\n",
              "       'OnlineSecurity', 'OnlineBackup', 'DeviceProtection', 'TechSupport',\n",
              "       'StreamingTV', 'StreamingMovies', 'Contract', 'PaperlessBilling',\n",
              "       'PaymentMethod', 'MonthlyCharges', 'TotalCharges', 'Churn'],\n",
              "      dtype='object')"
            ]
          },
          "execution_count": 874,
          "metadata": {},
          "output_type": "execute_result"
        }
      ],
      "source": [
        "telecom_data.columns"
      ]
    },
    {
      "cell_type": "markdown",
      "metadata": {},
      "source": [
        "### Предобработка данных и feature-engineering: "
      ]
    },
    {
      "cell_type": "code",
      "execution_count": 875,
      "metadata": {},
      "outputs": [],
      "source": [
        "from pandas.api.types import CategoricalDtype\n",
        "\n",
        "\n",
        "# Удалим столбец customerID за ненадобностью: \n",
        "telecom_data = telecom_data.drop(columns=['customerID'])\n",
        "\n",
        "# Преобразование всех данных в категориальные: \n",
        "telecom_data.loc[:, 'gender'] = telecom_data.loc[:, 'gender'].astype(CategoricalDtype(categories=['Female', 'Male']))\n",
        "\n",
        "for feature in telecom_data.columns:\n",
        "    # Для всех столбцов только с ['Yes', 'No'] или ['Yes', 'No', 'No internet service']: \n",
        "    if set(telecom_data.loc[:, feature].unique()) in (set(['Yes', 'No']), set(['Yes', 'No', 'No internet service'])): \n",
        "        telecom_data.loc[:, feature] = telecom_data.loc[:, feature].astype(CategoricalDtype(categories=['Yes', 'No', 'No internet service']))"
      ]
    },
    {
      "cell_type": "code",
      "execution_count": 876,
      "metadata": {},
      "outputs": [],
      "source": [
        "# Разделение tenure по 4 квантилям: \n",
        "telecom_data['tenure'] = pd.cut(x=telecom_data['tenure'], bins=4, labels=range(4))"
      ]
    },
    {
      "cell_type": "code",
      "execution_count": 877,
      "metadata": {},
      "outputs": [],
      "source": [
        "telecom_data['MultipleLines'] = telecom_data['MultipleLines'].astype(CategoricalDtype(categories=['No phone service', 'Yes', 'No']))\n",
        "telecom_data['InternetService'] = telecom_data['InternetService'].astype(CategoricalDtype(categories=['No', 'Fiber optic', 'DSL']))\n",
        "telecom_data['Contract'] = telecom_data['Contract'].astype(CategoricalDtype(categories=['Month-to-month', 'One year', 'Two year']))\n",
        "telecom_data['PaymentMethod'] = telecom_data['PaymentMethod'].astype(CategoricalDtype(\n",
        "    categories=['Credit card (automatic)', 'Bank transfer (automatic)', 'Electronic check', 'Mailed check']\n",
        "    ))"
      ]
    },
    {
      "cell_type": "code",
      "execution_count": 878,
      "metadata": {},
      "outputs": [],
      "source": [
        "# Сегментация клиентов по ежемесячным оплатам + за все время: \n",
        "telecom_data['MonthlyCharges'] = pd.cut(x=telecom_data['MonthlyCharges'], bins=5, labels=range(5))\n",
        "telecom_data = telecom_data.loc[telecom_data['TotalCharges'] != ' ']  # Пропуски в виде '' в  TotalCharges\n",
        "\n",
        "tc_max, tc_min = telecom_data.TotalCharges.astype(float).max(), telecom_data.TotalCharges.astype(float).min()\n",
        "delta = int((tc_max-tc_min) / 5)\n",
        "telecom_data['TotalCharges'] = pd.cut(x=telecom_data['TotalCharges'].astype(float), bins=5, labels=range(5))"
      ]
    },
    {
      "cell_type": "code",
      "execution_count": 879,
      "metadata": {},
      "outputs": [],
      "source": [
        "labels = [(int(num), int(num)+delta) for num in range(int(tc_min), int(tc_max), delta)][:-1]"
      ]
    },
    {
      "cell_type": "code",
      "execution_count": 880,
      "metadata": {},
      "outputs": [
        {
          "data": {
            "text/plain": [
              "1869    0\n",
              "4528    2\n",
              "6344    1\n",
              "6739    0\n",
              "432     0\n",
              "       ..\n",
              "3772    0\n",
              "5191    1\n",
              "5226    0\n",
              "5390    0\n",
              "860     0\n",
              "Name: TotalCharges, Length: 5976, dtype: category\n",
              "Categories (5, int64): [0 < 1 < 2 < 3 < 4]"
            ]
          },
          "execution_count": 880,
          "metadata": {},
          "output_type": "execute_result"
        }
      ],
      "source": [
        "telecom_data.TotalCharges"
      ]
    },
    {
      "cell_type": "code",
      "execution_count": 881,
      "metadata": {},
      "outputs": [],
      "source": [
        "telecom_data['SeniorCitizen'] = telecom_data['SeniorCitizen'].astype('category')"
      ]
    },
    {
      "cell_type": "markdown",
      "metadata": {},
      "source": [
        "Все подключенные услуги можно использовать в новой фиче \"Количество подключенных услуг\" - ServicesNum. "
      ]
    },
    {
      "cell_type": "code",
      "execution_count": 882,
      "metadata": {},
      "outputs": [],
      "source": [
        "# Все возможные дополнительные сервисы и услуги для клиента: \n",
        "av_services = {\n",
        "    num: column for num, column in enumerate(telecom_data.columns) \n",
        "    if column in ['InternetService', 'PhoneService', 'MultipleLines', 'OnlineSecurity', 'OnlineBackup', 'DeviceProtection', 'TechSupport', 'StreamingTV', 'StreamingMovies']\n",
        "    }\n",
        "\n",
        "# Считаем, сколько на каждую строчку (клиента) приходится подключенных дополнительных услуг: \n",
        "NumOfConnnectedServices = telecom_data.apply(lambda x: len([1 for num, element in enumerate(x) if ((element=='Yes') & (num in av_services.keys()))]), axis=1)\n",
        "\n",
        "# Заменяем текущие признаки итоговым NumOfConnnectedServices: \n",
        "telecom_data['ServicesNum'] = NumOfConnnectedServices.astype('category')"
      ]
    },
    {
      "cell_type": "code",
      "execution_count": 883,
      "metadata": {},
      "outputs": [],
      "source": [
        "telecom_data.drop(columns=[\n",
        "    'InternetService', 'PhoneService', 'MultipleLines', 'OnlineSecurity', 'OnlineBackup', \n",
        "    'DeviceProtection', 'TechSupport', 'StreamingTV', 'StreamingMovies', 'gender'\n",
        "    ], inplace=True)  "
      ]
    },
    {
      "cell_type": "code",
      "execution_count": 884,
      "metadata": {},
      "outputs": [
        {
          "data": {
            "text/html": [
              "<div>\n",
              "<style scoped>\n",
              "    .dataframe tbody tr th:only-of-type {\n",
              "        vertical-align: middle;\n",
              "    }\n",
              "\n",
              "    .dataframe tbody tr th {\n",
              "        vertical-align: top;\n",
              "    }\n",
              "\n",
              "    .dataframe thead th {\n",
              "        text-align: right;\n",
              "    }\n",
              "</style>\n",
              "<table border=\"1\" class=\"dataframe\">\n",
              "  <thead>\n",
              "    <tr style=\"text-align: right;\">\n",
              "      <th></th>\n",
              "      <th>SeniorCitizen</th>\n",
              "      <th>Partner</th>\n",
              "      <th>Dependents</th>\n",
              "      <th>tenure</th>\n",
              "      <th>Contract</th>\n",
              "      <th>PaperlessBilling</th>\n",
              "      <th>PaymentMethod</th>\n",
              "      <th>MonthlyCharges</th>\n",
              "      <th>TotalCharges</th>\n",
              "      <th>Churn</th>\n",
              "      <th>ServicesNum</th>\n",
              "    </tr>\n",
              "  </thead>\n",
              "  <tbody>\n",
              "    <tr>\n",
              "      <th>1869</th>\n",
              "      <td>0</td>\n",
              "      <td>Yes</td>\n",
              "      <td>Yes</td>\n",
              "      <td>3</td>\n",
              "      <td>Two year</td>\n",
              "      <td>No</td>\n",
              "      <td>Credit card (automatic)</td>\n",
              "      <td>0</td>\n",
              "      <td>0</td>\n",
              "      <td>No</td>\n",
              "      <td>2</td>\n",
              "    </tr>\n",
              "    <tr>\n",
              "      <th>4528</th>\n",
              "      <td>0</td>\n",
              "      <td>No</td>\n",
              "      <td>No</td>\n",
              "      <td>2</td>\n",
              "      <td>Month-to-month</td>\n",
              "      <td>Yes</td>\n",
              "      <td>Credit card (automatic)</td>\n",
              "      <td>3</td>\n",
              "      <td>2</td>\n",
              "      <td>No</td>\n",
              "      <td>4</td>\n",
              "    </tr>\n",
              "    <tr>\n",
              "      <th>6344</th>\n",
              "      <td>1</td>\n",
              "      <td>Yes</td>\n",
              "      <td>No</td>\n",
              "      <td>2</td>\n",
              "      <td>Month-to-month</td>\n",
              "      <td>Yes</td>\n",
              "      <td>Bank transfer (automatic)</td>\n",
              "      <td>2</td>\n",
              "      <td>1</td>\n",
              "      <td>Yes</td>\n",
              "      <td>2</td>\n",
              "    </tr>\n",
              "  </tbody>\n",
              "</table>\n",
              "</div>"
            ],
            "text/plain": [
              "     SeniorCitizen Partner Dependents tenure        Contract PaperlessBilling  \\\n",
              "1869             0     Yes        Yes      3        Two year               No   \n",
              "4528             0      No         No      2  Month-to-month              Yes   \n",
              "6344             1     Yes         No      2  Month-to-month              Yes   \n",
              "\n",
              "                  PaymentMethod MonthlyCharges TotalCharges Churn ServicesNum  \n",
              "1869    Credit card (automatic)              0            0    No           2  \n",
              "4528    Credit card (automatic)              3            2    No           4  \n",
              "6344  Bank transfer (automatic)              2            1   Yes           2  "
            ]
          },
          "execution_count": 884,
          "metadata": {},
          "output_type": "execute_result"
        }
      ],
      "source": [
        "# Посмотрим на нынешнее состояние датасета: \n",
        "telecom_data.head(3)"
      ]
    },
    {
      "cell_type": "code",
      "execution_count": 885,
      "metadata": {},
      "outputs": [],
      "source": [
        "# Таблицы сопряженности целевого признака со всеми остальными: \n",
        "crosstabs = [\n",
        "    pd.crosstab(index=telecom_data['Churn'], columns=telecom_data[column]) \n",
        "    for column in telecom_data.drop(columns=['Churn']).columns\n",
        "    ]"
      ]
    },
    {
      "cell_type": "code",
      "execution_count": 886,
      "metadata": {},
      "outputs": [],
      "source": [
        "# Кодирование данных: \n",
        "cat_columns = telecom_data.select_dtypes(['category']).columns\n",
        "telecom_data[cat_columns] = telecom_data[cat_columns].apply(lambda x: x.cat.codes)"
      ]
    },
    {
      "cell_type": "code",
      "execution_count": 887,
      "metadata": {},
      "outputs": [
        {
          "data": {
            "text/html": [
              "<div>\n",
              "<style scoped>\n",
              "    .dataframe tbody tr th:only-of-type {\n",
              "        vertical-align: middle;\n",
              "    }\n",
              "\n",
              "    .dataframe tbody tr th {\n",
              "        vertical-align: top;\n",
              "    }\n",
              "\n",
              "    .dataframe thead th {\n",
              "        text-align: right;\n",
              "    }\n",
              "</style>\n",
              "<table border=\"1\" class=\"dataframe\">\n",
              "  <thead>\n",
              "    <tr style=\"text-align: right;\">\n",
              "      <th></th>\n",
              "      <th>SeniorCitizen</th>\n",
              "      <th>Partner</th>\n",
              "      <th>Dependents</th>\n",
              "      <th>tenure</th>\n",
              "      <th>Contract</th>\n",
              "      <th>PaperlessBilling</th>\n",
              "      <th>PaymentMethod</th>\n",
              "      <th>MonthlyCharges</th>\n",
              "      <th>TotalCharges</th>\n",
              "      <th>Churn</th>\n",
              "      <th>ServicesNum</th>\n",
              "    </tr>\n",
              "  </thead>\n",
              "  <tbody>\n",
              "    <tr>\n",
              "      <th>1869</th>\n",
              "      <td>0</td>\n",
              "      <td>0</td>\n",
              "      <td>0</td>\n",
              "      <td>3</td>\n",
              "      <td>2</td>\n",
              "      <td>1</td>\n",
              "      <td>0</td>\n",
              "      <td>0</td>\n",
              "      <td>0</td>\n",
              "      <td>1</td>\n",
              "      <td>2</td>\n",
              "    </tr>\n",
              "    <tr>\n",
              "      <th>4528</th>\n",
              "      <td>0</td>\n",
              "      <td>1</td>\n",
              "      <td>1</td>\n",
              "      <td>2</td>\n",
              "      <td>0</td>\n",
              "      <td>0</td>\n",
              "      <td>0</td>\n",
              "      <td>3</td>\n",
              "      <td>2</td>\n",
              "      <td>1</td>\n",
              "      <td>4</td>\n",
              "    </tr>\n",
              "    <tr>\n",
              "      <th>6344</th>\n",
              "      <td>1</td>\n",
              "      <td>0</td>\n",
              "      <td>1</td>\n",
              "      <td>2</td>\n",
              "      <td>0</td>\n",
              "      <td>0</td>\n",
              "      <td>1</td>\n",
              "      <td>2</td>\n",
              "      <td>1</td>\n",
              "      <td>0</td>\n",
              "      <td>2</td>\n",
              "    </tr>\n",
              "    <tr>\n",
              "      <th>6739</th>\n",
              "      <td>0</td>\n",
              "      <td>1</td>\n",
              "      <td>1</td>\n",
              "      <td>0</td>\n",
              "      <td>0</td>\n",
              "      <td>0</td>\n",
              "      <td>2</td>\n",
              "      <td>1</td>\n",
              "      <td>0</td>\n",
              "      <td>1</td>\n",
              "      <td>2</td>\n",
              "    </tr>\n",
              "    <tr>\n",
              "      <th>432</th>\n",
              "      <td>0</td>\n",
              "      <td>1</td>\n",
              "      <td>1</td>\n",
              "      <td>0</td>\n",
              "      <td>0</td>\n",
              "      <td>1</td>\n",
              "      <td>2</td>\n",
              "      <td>1</td>\n",
              "      <td>0</td>\n",
              "      <td>1</td>\n",
              "      <td>3</td>\n",
              "    </tr>\n",
              "  </tbody>\n",
              "</table>\n",
              "</div>"
            ],
            "text/plain": [
              "      SeniorCitizen  Partner  Dependents  tenure  Contract  PaperlessBilling  \\\n",
              "1869              0        0           0       3         2                 1   \n",
              "4528              0        1           1       2         0                 0   \n",
              "6344              1        0           1       2         0                 0   \n",
              "6739              0        1           1       0         0                 0   \n",
              "432               0        1           1       0         0                 1   \n",
              "\n",
              "      PaymentMethod  MonthlyCharges  TotalCharges  Churn  ServicesNum  \n",
              "1869              0               0             0      1            2  \n",
              "4528              0               3             2      1            4  \n",
              "6344              1               2             1      0            2  \n",
              "6739              2               1             0      1            2  \n",
              "432               2               1             0      1            3  "
            ]
          },
          "execution_count": 887,
          "metadata": {},
          "output_type": "execute_result"
        }
      ],
      "source": [
        "telecom_data.head()"
      ]
    },
    {
      "cell_type": "code",
      "execution_count": 888,
      "metadata": {},
      "outputs": [
        {
          "name": "stdout",
          "output_type": "stream",
          "text": [
            "<class 'pandas.core.frame.DataFrame'>\n",
            "Int64Index: 5976 entries, 1869 to 860\n",
            "Data columns (total 11 columns):\n",
            " #   Column            Non-Null Count  Dtype\n",
            "---  ------            --------------  -----\n",
            " 0   SeniorCitizen     5976 non-null   int8 \n",
            " 1   Partner           5976 non-null   int8 \n",
            " 2   Dependents        5976 non-null   int8 \n",
            " 3   tenure            5976 non-null   int8 \n",
            " 4   Contract          5976 non-null   int8 \n",
            " 5   PaperlessBilling  5976 non-null   int8 \n",
            " 6   PaymentMethod     5976 non-null   int8 \n",
            " 7   MonthlyCharges    5976 non-null   int8 \n",
            " 8   TotalCharges      5976 non-null   int8 \n",
            " 9   Churn             5976 non-null   int8 \n",
            " 10  ServicesNum       5976 non-null   int8 \n",
            "dtypes: int8(11)\n",
            "memory usage: 110.9 KB\n"
          ]
        }
      ],
      "source": [
        "telecom_data.info()"
      ]
    },
    {
      "cell_type": "markdown",
      "metadata": {},
      "source": [
        "Рассмотрим базовые статистики по данным: "
      ]
    },
    {
      "cell_type": "code",
      "execution_count": 889,
      "metadata": {},
      "outputs": [
        {
          "data": {
            "text/html": [
              "<div>\n",
              "<style scoped>\n",
              "    .dataframe tbody tr th:only-of-type {\n",
              "        vertical-align: middle;\n",
              "    }\n",
              "\n",
              "    .dataframe tbody tr th {\n",
              "        vertical-align: top;\n",
              "    }\n",
              "\n",
              "    .dataframe thead th {\n",
              "        text-align: right;\n",
              "    }\n",
              "</style>\n",
              "<table border=\"1\" class=\"dataframe\">\n",
              "  <thead>\n",
              "    <tr style=\"text-align: right;\">\n",
              "      <th></th>\n",
              "      <th>SeniorCitizen</th>\n",
              "      <th>Partner</th>\n",
              "      <th>Dependents</th>\n",
              "      <th>tenure</th>\n",
              "      <th>Contract</th>\n",
              "      <th>PaperlessBilling</th>\n",
              "      <th>PaymentMethod</th>\n",
              "      <th>MonthlyCharges</th>\n",
              "      <th>TotalCharges</th>\n",
              "      <th>Churn</th>\n",
              "      <th>ServicesNum</th>\n",
              "    </tr>\n",
              "  </thead>\n",
              "  <tbody>\n",
              "    <tr>\n",
              "      <th>count</th>\n",
              "      <td>5976.0</td>\n",
              "      <td>5976.0</td>\n",
              "      <td>5976.0</td>\n",
              "      <td>5976.0</td>\n",
              "      <td>5976.0</td>\n",
              "      <td>5976.0</td>\n",
              "      <td>5976.0</td>\n",
              "      <td>5976.0</td>\n",
              "      <td>5976.0</td>\n",
              "      <td>5976.0</td>\n",
              "      <td>5976.0</td>\n",
              "    </tr>\n",
              "    <tr>\n",
              "      <th>mean</th>\n",
              "      <td>0.0</td>\n",
              "      <td>1.0</td>\n",
              "      <td>1.0</td>\n",
              "      <td>1.0</td>\n",
              "      <td>1.0</td>\n",
              "      <td>0.0</td>\n",
              "      <td>2.0</td>\n",
              "      <td>2.0</td>\n",
              "      <td>1.0</td>\n",
              "      <td>1.0</td>\n",
              "      <td>3.0</td>\n",
              "    </tr>\n",
              "    <tr>\n",
              "      <th>std</th>\n",
              "      <td>0.0</td>\n",
              "      <td>0.0</td>\n",
              "      <td>0.0</td>\n",
              "      <td>1.0</td>\n",
              "      <td>1.0</td>\n",
              "      <td>0.0</td>\n",
              "      <td>1.0</td>\n",
              "      <td>1.0</td>\n",
              "      <td>1.0</td>\n",
              "      <td>0.0</td>\n",
              "      <td>2.0</td>\n",
              "    </tr>\n",
              "    <tr>\n",
              "      <th>min</th>\n",
              "      <td>0.0</td>\n",
              "      <td>0.0</td>\n",
              "      <td>0.0</td>\n",
              "      <td>0.0</td>\n",
              "      <td>0.0</td>\n",
              "      <td>0.0</td>\n",
              "      <td>0.0</td>\n",
              "      <td>0.0</td>\n",
              "      <td>0.0</td>\n",
              "      <td>0.0</td>\n",
              "      <td>0.0</td>\n",
              "    </tr>\n",
              "    <tr>\n",
              "      <th>25%</th>\n",
              "      <td>0.0</td>\n",
              "      <td>0.0</td>\n",
              "      <td>0.0</td>\n",
              "      <td>0.0</td>\n",
              "      <td>0.0</td>\n",
              "      <td>0.0</td>\n",
              "      <td>1.0</td>\n",
              "      <td>0.0</td>\n",
              "      <td>0.0</td>\n",
              "      <td>0.0</td>\n",
              "      <td>1.0</td>\n",
              "    </tr>\n",
              "    <tr>\n",
              "      <th>50%</th>\n",
              "      <td>0.0</td>\n",
              "      <td>1.0</td>\n",
              "      <td>1.0</td>\n",
              "      <td>1.0</td>\n",
              "      <td>0.0</td>\n",
              "      <td>0.0</td>\n",
              "      <td>2.0</td>\n",
              "      <td>2.0</td>\n",
              "      <td>0.0</td>\n",
              "      <td>1.0</td>\n",
              "      <td>3.0</td>\n",
              "    </tr>\n",
              "    <tr>\n",
              "      <th>75%</th>\n",
              "      <td>0.0</td>\n",
              "      <td>1.0</td>\n",
              "      <td>1.0</td>\n",
              "      <td>3.0</td>\n",
              "      <td>1.0</td>\n",
              "      <td>1.0</td>\n",
              "      <td>2.0</td>\n",
              "      <td>3.0</td>\n",
              "      <td>2.0</td>\n",
              "      <td>1.0</td>\n",
              "      <td>5.0</td>\n",
              "    </tr>\n",
              "    <tr>\n",
              "      <th>max</th>\n",
              "      <td>1.0</td>\n",
              "      <td>1.0</td>\n",
              "      <td>1.0</td>\n",
              "      <td>3.0</td>\n",
              "      <td>2.0</td>\n",
              "      <td>1.0</td>\n",
              "      <td>3.0</td>\n",
              "      <td>4.0</td>\n",
              "      <td>4.0</td>\n",
              "      <td>1.0</td>\n",
              "      <td>8.0</td>\n",
              "    </tr>\n",
              "  </tbody>\n",
              "</table>\n",
              "</div>"
            ],
            "text/plain": [
              "       SeniorCitizen  Partner  Dependents  tenure  Contract  PaperlessBilling  \\\n",
              "count         5976.0   5976.0      5976.0  5976.0    5976.0            5976.0   \n",
              "mean             0.0      1.0         1.0     1.0       1.0               0.0   \n",
              "std              0.0      0.0         0.0     1.0       1.0               0.0   \n",
              "min              0.0      0.0         0.0     0.0       0.0               0.0   \n",
              "25%              0.0      0.0         0.0     0.0       0.0               0.0   \n",
              "50%              0.0      1.0         1.0     1.0       0.0               0.0   \n",
              "75%              0.0      1.0         1.0     3.0       1.0               1.0   \n",
              "max              1.0      1.0         1.0     3.0       2.0               1.0   \n",
              "\n",
              "       PaymentMethod  MonthlyCharges  TotalCharges   Churn  ServicesNum  \n",
              "count         5976.0          5976.0        5976.0  5976.0       5976.0  \n",
              "mean             2.0             2.0           1.0     1.0          3.0  \n",
              "std              1.0             1.0           1.0     0.0          2.0  \n",
              "min              0.0             0.0           0.0     0.0          0.0  \n",
              "25%              1.0             0.0           0.0     0.0          1.0  \n",
              "50%              2.0             2.0           0.0     1.0          3.0  \n",
              "75%              2.0             3.0           2.0     1.0          5.0  \n",
              "max              3.0             4.0           4.0     1.0          8.0  "
            ]
          },
          "execution_count": 889,
          "metadata": {},
          "output_type": "execute_result"
        }
      ],
      "source": [
        "round(telecom_data.describe(), 0)"
      ]
    },
    {
      "cell_type": "markdown",
      "metadata": {
        "id": "TDUhZEKyVYSN"
      },
      "source": [
        "# 2. Исследование зависимостей и формулирование гипотез"
      ]
    },
    {
      "cell_type": "markdown",
      "metadata": {},
      "source": [
        "Исследуем зависимости между существующими категориальными признаками. Для категориальных переменных не подходит метод нахождения коэффициента корреляции, поэтому рассмотрим таблицы сопряженности целевого признака с остальными переменными."
      ]
    },
    {
      "cell_type": "code",
      "execution_count": 944,
      "metadata": {},
      "outputs": [
        {
          "data": {
            "text/html": [
              "<div>\n",
              "<style scoped>\n",
              "    .dataframe tbody tr th:only-of-type {\n",
              "        vertical-align: middle;\n",
              "    }\n",
              "\n",
              "    .dataframe tbody tr th {\n",
              "        vertical-align: top;\n",
              "    }\n",
              "\n",
              "    .dataframe thead th {\n",
              "        text-align: right;\n",
              "    }\n",
              "</style>\n",
              "<table border=\"1\" class=\"dataframe\">\n",
              "  <thead>\n",
              "    <tr style=\"text-align: right;\">\n",
              "      <th>TotalCharges</th>\n",
              "      <th>0</th>\n",
              "      <th>1</th>\n",
              "      <th>2</th>\n",
              "      <th>3</th>\n",
              "      <th>4</th>\n",
              "    </tr>\n",
              "    <tr>\n",
              "      <th>Churn</th>\n",
              "      <th></th>\n",
              "      <th></th>\n",
              "      <th></th>\n",
              "      <th></th>\n",
              "      <th></th>\n",
              "    </tr>\n",
              "  </thead>\n",
              "  <tbody>\n",
              "    <tr>\n",
              "      <th>Yes</th>\n",
              "      <td>1091</td>\n",
              "      <td>246</td>\n",
              "      <td>128</td>\n",
              "      <td>91</td>\n",
              "      <td>31</td>\n",
              "    </tr>\n",
              "    <tr>\n",
              "      <th>No</th>\n",
              "      <td>2244</td>\n",
              "      <td>749</td>\n",
              "      <td>617</td>\n",
              "      <td>516</td>\n",
              "      <td>263</td>\n",
              "    </tr>\n",
              "  </tbody>\n",
              "</table>\n",
              "</div>"
            ],
            "text/plain": [
              "TotalCharges     0    1    2    3    4\n",
              "Churn                                 \n",
              "Yes           1091  246  128   91   31\n",
              "No            2244  749  617  516  263"
            ]
          },
          "execution_count": 944,
          "metadata": {},
          "output_type": "execute_result"
        }
      ],
      "source": [
        "crosstabs[8] # 0, 1, ..., 9"
      ]
    },
    {
      "cell_type": "markdown",
      "metadata": {},
      "source": [
        "## Ключевые гипотезы\n",
        "\n",
        "* Если клиент является пенсионером, отток может в схожей степени как произойти ($ P = \\frac{402}{5976} = 7$%) так и не произойти ($ P = \\frac{564}{5976} = 9$%). Это значит, что **переменная оттока не зависит от того, является ли клиент пенсионером**. \n",
        "* **Отток зависит от наличия у клиента партнера**.   \n",
        "Так, если клиент состоит в браке, он с вероятностью 80% не откажется от услуг оператора, против 67%, если не состоит. \n",
        "* **Отток зависит от наличия у клиента иждивенцов**.  \n",
        "Так, если они есть, отток не произойдет с вероятностью 84%, против 69%, если их нет. \n",
        "* **Отток зависит от срока `tenure`** пользования клиентом услугами оператора.  \n",
        "Чем больше срок - тем менее вероятность оттока. \n",
        "* **Отток зависит от типа контракта клиента.**  \n",
        "Например, из 1587 клиентов, которых потеряла компания, всего 3% имеют тип подключения на два года, и 10% - на год. \n",
        "* **Есть зависимость между переменной оттока и способом оплаты**.  \n",
        "Из числа клиентов, отказавшихся от услуг компании, 56% используют систему электронного чека, это значение выделяется. \n",
        "* **Существует зависимость между оттоком и суммарными затратами на услуги оператора**.  \n",
        "Чем большую сумму клиент готов потратить, тем меньше вероятность оттока. "
      ]
    },
    {
      "cell_type": "markdown",
      "metadata": {
        "id": "YnZrI40dVYSZ"
      },
      "source": [
        "# 3. Построение моделей для прогнозирования оттока + 4. Сравнение качества моделей "
      ]
    },
    {
      "cell_type": "code",
      "execution_count": 892,
      "metadata": {},
      "outputs": [
        {
          "name": "stdout",
          "output_type": "stream",
          "text": [
            "Requirement already satisfied: sklearn in c:\\python\\lib\\site-packages (0.0)\n",
            "Requirement already satisfied: scikit-learn in c:\\python\\lib\\site-packages (from sklearn) (1.1.2)\n",
            "Requirement already satisfied: numpy>=1.17.3 in c:\\python\\lib\\site-packages (from scikit-learn->sklearn) (1.23.2)\n",
            "Requirement already satisfied: joblib>=1.0.0 in c:\\python\\lib\\site-packages (from scikit-learn->sklearn) (1.2.0)\n",
            "Requirement already satisfied: threadpoolctl>=2.0.0 in c:\\python\\lib\\site-packages (from scikit-learn->sklearn) (3.1.0)\n",
            "Requirement already satisfied: scipy>=1.3.2 in c:\\python\\lib\\site-packages (from scikit-learn->sklearn) (1.9.1)\n"
          ]
        }
      ],
      "source": [
        "!pip install sklearn"
      ]
    },
    {
      "cell_type": "code",
      "execution_count": 893,
      "metadata": {
        "id": "wwrrkx8pVYSa"
      },
      "outputs": [],
      "source": [
        "# kNN хорошо отрабатывает для данных с небольш. кол-вом классов: \n",
        "from sklearn.neighbors import KNeighborsClassifier\n",
        "# Деревья решений очень мощны и универсальны: \n",
        "from sklearn.tree import DecisionTreeClassifier\n",
        "# BernoulliNB основан на подсчете вероятностей по схеме Бернулли, идеально подходит для бинарной классиф.:\n",
        "from sklearn.naive_bayes import BernoulliNB\n",
        "# Логиcтическая регрессия \n",
        "from sklearn.linear_model import LogisticRegression\n",
        "# Для стэкинга не-деревьевых моделей и ансамбля деревьев: \n",
        "from sklearn.ensemble import RandomForestClassifier, StackingClassifier\n",
        "\n",
        "from sklearn.model_selection import train_test_split\n",
        "from sklearn.preprocessing import normalize, StandardScaler"
      ]
    },
    {
      "cell_type": "code",
      "execution_count": 894,
      "metadata": {},
      "outputs": [],
      "source": [
        "telecom_data.drop(columns=['SeniorCitizen'], inplace=True)"
      ]
    },
    {
      "cell_type": "code",
      "execution_count": 895,
      "metadata": {},
      "outputs": [],
      "source": [
        "# Разделение данных на значения и признак:  \n",
        "y, X = telecom_data['Churn'], telecom_data.drop(columns=['Churn'])"
      ]
    },
    {
      "cell_type": "markdown",
      "metadata": {},
      "source": [
        "Выбор метрики качества: "
      ]
    },
    {
      "cell_type": "code",
      "execution_count": 896,
      "metadata": {},
      "outputs": [
        {
          "data": {
            "text/plain": [
              "Text(0.5, 1.0, 'Количеств. соотношение оттока\\n пользователей за текущий период')"
            ]
          },
          "execution_count": 896,
          "metadata": {},
          "output_type": "execute_result"
        },
        {
          "data": {
            "image/png": "[encoded data removed]",
            "text/plain": [
              "<Figure size 640x480 with 1 Axes>"
            ]
          },
          "metadata": {},
          "output_type": "display_data"
        }
      ],
      "source": [
        "plt.set_cmap(cmap='Pastel1')\n",
        "to_pie = {'Отток произошел': len(y[y==0]), 'Отток не произошел': len(y[y==1])}\n",
        "plt.pie(to_pie.values(), shadow=True)\n",
        "plt.legend(to_pie.keys())\n",
        "plt.title('Количеств. соотношение оттока\\n пользователей за текущий период')"
      ]
    },
    {
      "cell_type": "markdown",
      "metadata": {},
      "source": [
        "Метрика accuracy неэффективна для данных, несбалансированных по классам. Поэтому берем precision, recall. "
      ]
    },
    {
      "cell_type": "code",
      "execution_count": 897,
      "metadata": {},
      "outputs": [],
      "source": [
        "from sklearn.metrics import precision_score, recall_score"
      ]
    },
    {
      "cell_type": "code",
      "execution_count": 898,
      "metadata": {},
      "outputs": [],
      "source": [
        "# Разделение данных на тренировочную, тестовую выборки: \n",
        "X_train, X_test, y_train, y_test = train_test_split(X, y, test_size=0.2, random_state=0)\n",
        "\n",
        "knn = KNeighborsClassifier() \n",
        "dtc = DecisionTreeClassifier(random_state=0) \n",
        "bnb = BernoulliNB() \n",
        "rfc = RandomForestClassifier(random_state=0)\n",
        "\n",
        "estimators1 = [knn, dtc, bnb, rfc]\n",
        "# Обучение основных алгоритмов: \n",
        "estimators_names = [\n",
        "    'KNeighborsClassifier',\n",
        "    'DecisionTreeClassifier', \n",
        "    'BernoulliNB', \n",
        "    'RandomForestClassifier' \n",
        "]"
      ]
    },
    {
      "cell_type": "code",
      "execution_count": 899,
      "metadata": {},
      "outputs": [
        {
          "data": {
            "text/plain": [
              "[KNeighborsClassifier(),\n",
              " DecisionTreeClassifier(random_state=0),\n",
              " BernoulliNB(),\n",
              " RandomForestClassifier(random_state=0)]"
            ]
          },
          "execution_count": 899,
          "metadata": {},
          "output_type": "execute_result"
        }
      ],
      "source": [
        "estimators1"
      ]
    },
    {
      "cell_type": "code",
      "execution_count": 900,
      "metadata": {},
      "outputs": [],
      "source": [
        "def one_est(estimator, est_name, X_train=X_train, y_train=y_train): \n",
        "    estimator.fit(X_train, y_train)\n",
        "    y_pred = estimator.predict(X_test)\n",
        "    prc, rec = precision_score(y_pred=y_pred, y_true=y_test), recall_score(y_pred=y_pred, y_true=y_test)\n",
        "    print('\\n' + '='*30 + '\\n' + est_name)\n",
        "    print('Precision: {}\\nRecall: {}'.format(prc, rec))    \n",
        "    return prc, rec"
      ]
    },
    {
      "cell_type": "code",
      "execution_count": 901,
      "metadata": {},
      "outputs": [],
      "source": [
        "from sklearn.preprocessing import StandardScaler"
      ]
    },
    {
      "cell_type": "markdown",
      "metadata": {},
      "source": [
        "#### Логистическая регрессия: "
      ]
    },
    {
      "cell_type": "code",
      "execution_count": 902,
      "metadata": {},
      "outputs": [
        {
          "name": "stdout",
          "output_type": "stream",
          "text": [
            "\n",
            "==============================\n",
            "LogisticRegression\n",
            "Precision: 0.8341915550978373\n",
            "Recall: 0.9070548712206047\n"
          ]
        },
        {
          "data": {
            "text/plain": [
              "(0.8341915550978373, 0.9070548712206047)"
            ]
          },
          "execution_count": 902,
          "metadata": {},
          "output_type": "execute_result"
        }
      ],
      "source": [
        "from sklearn.model_selection import GridSearchCV\n",
        "\n",
        "log_reg = LogisticRegression(random_state=0, n_jobs=-1, multi_class='ovr')\n",
        "\n",
        "one_est(\n",
        "    estimator=GridSearchCV(\n",
        "        log_reg, \n",
        "        param_grid={'C': np.arange(0.1, 1.1, 0.1)}, \n",
        "        scoring='recall'\n",
        "        ), \n",
        "    # estimator=LogisticRegression(random_state=0),\n",
        "    est_name='LogisticRegression', \n",
        "    X_train=X_train, \n",
        "    y_train=y_train\n",
        ")"
      ]
    },
    {
      "cell_type": "code",
      "execution_count": 903,
      "metadata": {},
      "outputs": [
        {
          "name": "stdout",
          "output_type": "stream",
          "text": [
            "\n",
            "==============================\n",
            "KNeighborsClassifier\n",
            "Precision: 0.8329809725158562\n",
            "Recall: 0.8824188129899216\n",
            "\n",
            "==============================\n",
            "DecisionTreeClassifier\n",
            "Precision: 0.8399044205495818\n",
            "Recall: 0.7872340425531915\n",
            "\n",
            "==============================\n",
            "BernoulliNB\n",
            "Precision: 0.8433598183881952\n",
            "Recall: 0.832026875699888\n",
            "\n",
            "==============================\n",
            "RandomForestClassifier\n",
            "Precision: 0.8317046688382194\n",
            "Recall: 0.8577827547592385\n"
          ]
        }
      ],
      "source": [
        "for num, estimator in enumerate(estimators1): \n",
        "    one_est(estimator=estimator, est_name=estimators_names[num], X_train=X_train, y_train=y_train)"
      ]
    },
    {
      "cell_type": "code",
      "execution_count": 904,
      "metadata": {},
      "outputs": [],
      "source": [
        "# Стекинг моделей: \n",
        "stacked_model = StackingClassifier(\n",
        "    estimators=(('dtc', knn), ('rfc', rfc)),\n",
        "    final_estimator=log_reg\n",
        ").fit(X_train, y_train)"
      ]
    },
    {
      "cell_type": "code",
      "execution_count": 905,
      "metadata": {},
      "outputs": [
        {
          "name": "stdout",
          "output_type": "stream",
          "text": [
            "Precisionn value: 0.8081510934393639\n",
            "Recall value: 0.910414333706607\n"
          ]
        }
      ],
      "source": [
        "y_pred_stacked = stacked_model.predict(X_test)\n",
        "print('Precisionn value:', precision_score(y_true=y_test, y_pred=y_pred_stacked))\n",
        "print('Recall value:', recall_score(y_true=y_test, y_pred=y_pred_stacked))"
      ]
    },
    {
      "cell_type": "markdown",
      "metadata": {},
      "source": [
        "## Общие выводы по работе: \n",
        "Стекинг использованных моделей обеспечил наивысшее качество по метрике recall. Используем данную вариацию. "
      ]
    },
    {
      "cell_type": "code",
      "execution_count": 906,
      "metadata": {},
      "outputs": [],
      "source": [
        "# from pickle import dump\n",
        "\n",
        "# with open(\"models/model_v1.pkl\", \"wb\") as f:\n",
        "#     dump(stacked_model, f)"
      ]
    }
  ],
  "metadata": {
    "colab": {
      "collapsed_sections": [],
      "provenance": []
    },
    "kernelspec": {
      "display_name": "Python 3.8.9 64-bit",
      "language": "python",
      "name": "python3"
    },
    "language_info": {
      "codemirror_mode": {
        "name": "ipython",
        "version": 3
      },
      "file_extension": ".py",
      "mimetype": "text/x-python",
      "name": "python",
      "nbconvert_exporter": "python",
      "pygments_lexer": "ipython3",
      "version": "3.9.0"
    },
    "vscode": {
      "interpreter": {
        "hash": "52634da84371cba311ea128a5ea7cdc41ff074b781779e754b270ff9f8153cee"
      }
    }
  },
  "nbformat": 4,
  "nbformat_minor": 0
}
